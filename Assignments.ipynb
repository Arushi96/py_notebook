{
 "cells": [
  {
   "cell_type": "markdown",
   "metadata": {},
   "source": [
    "# Assignments\n",
    "\n",
    "\n",
    "### Loops and conditionals\n",
    "\n",
    "**Q.** Write a program, which prints the first 'N' numbers of *fibonacci series*. The first two fibonacci numbers are 0 and 1. After that, every number is addition of first two numbers. Read the 'N' from the user.\n",
    "\n",
    "Ex o/p:\n",
    "\n",
    "```\n",
    "Enter the N: 10\n",
    "First 10 fibonacci numbers are:\n",
    "0 1 1 2 3 5 8 13 21 34\n",
    "```\n",
    "\n",
    "---\n",
    "\n"
   ]
  },
  {
   "cell_type": "code",
   "execution_count": null,
   "metadata": {
    "collapsed": true
   },
   "outputs": [],
   "source": []
  }
 ],
 "metadata": {
  "kernelspec": {
   "display_name": "Python 3",
   "language": "python",
   "name": "python3"
  },
  "language_info": {
   "codemirror_mode": {
    "name": "ipython",
    "version": 3
   },
   "file_extension": ".py",
   "mimetype": "text/x-python",
   "name": "python",
   "nbconvert_exporter": "python",
   "pygments_lexer": "ipython3",
   "version": "3.6.0"
  }
 },
 "nbformat": 4,
 "nbformat_minor": 2
}
