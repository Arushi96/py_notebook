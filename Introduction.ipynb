{
 "cells": [
  {
   "cell_type": "markdown",
   "metadata": {},
   "source": [
    "# What is Python\n",
    "\n",
    "Python is:\n",
    "\n",
    "- general purpose\n",
    "- object oriented\n",
    "- dynamic typed\n",
    "- type safe\n",
    "- open source\n",
    "- interpreted langauge"
   ]
  },
  {
   "cell_type": "markdown",
   "metadata": {},
   "source": [
    "# History\n",
    "\n",
    "**2017 celebrating `27th` anniversary of Python!!!**\n",
    "\n",
    "- A christmas project by Guido van Rossum\n",
    "- Beta version in 1989\n",
    "- Version 1, first official release in 1990\n",
    "- Version 2 in 2001\n",
    "- Version 3 in 2008\n",
    "\n",
    "\n",
    "- Big tech giants, Google, Amazon, early adopters of Python language"
   ]
  },
  {
   "cell_type": "code",
   "execution_count": 2,
   "metadata": {},
   "outputs": [
    {
     "name": "stdout",
     "output_type": "stream",
     "text": [
      "Hello World\n",
      "Python is easy\n",
      "and so it's awesome!\n"
     ]
    }
   ],
   "source": [
    "print(\"Hello World\")\n",
    "print(\"Python\", \"is\",\"easy\")\n",
    "print(\"and \" + \"so\" + \" it's awesome!\")"
   ]
  }
 ],
 "metadata": {
  "kernelspec": {
   "display_name": "Python 3",
   "language": "python",
   "name": "python3"
  },
  "language_info": {
   "codemirror_mode": {
    "name": "ipython",
    "version": 3
   },
   "file_extension": ".py",
   "mimetype": "text/x-python",
   "name": "python",
   "nbconvert_exporter": "python",
   "pygments_lexer": "ipython3",
   "version": "3.6.0"
  }
 },
 "nbformat": 4,
 "nbformat_minor": 2
}
