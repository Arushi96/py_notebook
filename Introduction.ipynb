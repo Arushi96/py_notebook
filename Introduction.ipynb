{
 "cells": [
  {
   "cell_type": "markdown",
   "metadata": {},
   "source": [
    "# What is Python\n",
    "\n",
    "Python is:\n",
    "\n",
    "- general purpose\n",
    "- object oriented\n",
    "- garbage collected\n",
    "- dynamic typed\n",
    "- type safe\n",
    "- open source\n",
    "- interpreted langauge\n",
    "- which supports multiple programming paradigms like: functional, procedural, imperative, object oriented etc."
   ]
  },
  {
   "cell_type": "markdown",
   "metadata": {},
   "source": [
    "# History\n",
    "\n",
    "**2017 celebrating `27th` anniversary of Python!!!**\n",
    "\n",
    "- A christmas project by Guido van Rossum\n",
    "- Beta version in 1989\n",
    "- Version 1, first official release in 1990\n",
    "- Version 2 in 2001\n",
    "- Version 3 in 2008\n",
    "\n",
    "\n",
    "- Big tech giants, Google, Amazon, early adopters of Python language"
   ]
  },
  {
   "cell_type": "code",
   "execution_count": 2,
   "metadata": {},
   "outputs": [
    {
     "name": "stdout",
     "output_type": "stream",
     "text": [
      "Hello World\n",
      "Python is easy\n",
      "and so it's awesome!\n"
     ]
    }
   ],
   "source": [
    "print(\"Hello World\")\n",
    "print(\"Python\", \"is\",\"easy\")\n",
    "print(\"and \" + \"so\" + \" it's awesome!\")"
   ]
  },
  {
   "cell_type": "markdown",
   "metadata": {},
   "source": [
    "# Zen of Python\n",
    "\n",
    "- Articulated by Tim Peters\n",
    "- A Set of common coding guidelines, or Python idioms\n",
    "- A code is called Pythonic, if it follows these set of core philosophies\n",
    "\n",
    "Few of those: (as per my priorities)\n",
    "\n",
    "- Readability counts\n",
    "- Beautiful is better than ugly\n",
    "- Explicit is better than implicit\n",
    "- Simple is better than complex\n",
    "- Complex is better than complicated\n",
    "- There should be one-- and preferably only one --obvious way to do it.\n",
    "- Now is better than never."
   ]
  },
  {
   "cell_type": "code",
   "execution_count": 3,
   "metadata": {},
   "outputs": [
    {
     "name": "stdout",
     "output_type": "stream",
     "text": [
      "The Zen of Python, by Tim Peters\n",
      "\n",
      "Beautiful is better than ugly.\n",
      "Explicit is better than implicit.\n",
      "Simple is better than complex.\n",
      "Complex is better than complicated.\n",
      "Flat is better than nested.\n",
      "Sparse is better than dense.\n",
      "Readability counts.\n",
      "Special cases aren't special enough to break the rules.\n",
      "Although practicality beats purity.\n",
      "Errors should never pass silently.\n",
      "Unless explicitly silenced.\n",
      "In the face of ambiguity, refuse the temptation to guess.\n",
      "There should be one-- and preferably only one --obvious way to do it.\n",
      "Although that way may not be obvious at first unless you're Dutch.\n",
      "Now is better than never.\n",
      "Although never is often better than *right* now.\n",
      "If the implementation is hard to explain, it's a bad idea.\n",
      "If the implementation is easy to explain, it may be a good idea.\n",
      "Namespaces are one honking great idea -- let's do more of those!\n"
     ]
    }
   ],
   "source": [
    "import this"
   ]
  }
 ],
 "metadata": {
  "kernelspec": {
   "display_name": "Python 3",
   "language": "python",
   "name": "python3"
  },
  "language_info": {
   "codemirror_mode": {
    "name": "ipython",
    "version": 3
   },
   "file_extension": ".py",
   "mimetype": "text/x-python",
   "name": "python",
   "nbconvert_exporter": "python",
   "pygments_lexer": "ipython3",
   "version": "3.6.0"
  }
 },
 "nbformat": 4,
 "nbformat_minor": 2
}
