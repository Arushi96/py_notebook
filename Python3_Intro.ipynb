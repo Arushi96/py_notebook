{
 "cells": [
  {
   "cell_type": "markdown",
   "metadata": {},
   "source": [
    "# Author\n",
    "\n",
    "Guido van Rossum\n",
    "\n",
    "https://upload.wikimedia.org/wikipedia/commons/9/94/Guido_van_Rossum_OSCON_2006_cropped.png\n",
    "\n",
    "\n",
    "\n"
   ]
  },
  {
   "cell_type": "markdown",
   "metadata": {},
   "source": [
    "# Versions & Date of Release\n",
    "\n",
    "- Python Beta \n",
    "    - Python 0.9 - January 1991\n",
    "\n",
    "\n",
    "- Python 1.x\n",
    "    - Python 1.0 - January 1994\n",
    "    - Python 1.5 - December 31, 1997\n",
    "    - Python 1.6 - September 5, 2000\n",
    "\n",
    "\n",
    "- Python 2.x\n",
    "    - Python 2.0 - October 16, 2000\n",
    "    - Python 2.1 - April 17, 2001\n",
    "    - Python 2.2 - December 21, 2001\n",
    "    - Python 2.3 - July 29, 2003\n",
    "    - Python 2.4 - November 30, 2004\n",
    "    - Python 2.5 - September 19, 2006\n",
    "    - Python 2.6 - October 1, 2008\n",
    "    - Python 2.7 - July 3, 2010\n",
    "\n",
    "\n",
    "- Python 3.x\n",
    "    - Python 3.0 - December 3, 2008\n",
    "    - Python 3.1 - June 27, 2009\n",
    "    - Python 3.2 - February 20, 2011\n",
    "    - Python 3.3 - September 29, 2012\n",
    "    - Python 3.4 - March 16, 2014\n",
    "    - Python 3.5 - September 13, 2015\n",
    "    - Python 3.6 - December 23, 2016"
   ]
  }
 ],
 "metadata": {
  "kernelspec": {
   "display_name": "Python 3",
   "language": "python",
   "name": "python3"
  },
  "language_info": {
   "codemirror_mode": {
    "name": "ipython",
    "version": 3
   },
   "file_extension": ".py",
   "mimetype": "text/x-python",
   "name": "python",
   "nbconvert_exporter": "python",
   "pygments_lexer": "ipython3",
   "version": "3.6.0"
  }
 },
 "nbformat": 4,
 "nbformat_minor": 2
}
