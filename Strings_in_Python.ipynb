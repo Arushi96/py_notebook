{
 "cells": [
  {
   "cell_type": "markdown",
   "metadata": {},
   "source": [
    "# String and string operations in Python\n"
   ]
  },
  {
   "cell_type": "code",
   "execution_count": 8,
   "metadata": {},
   "outputs": [
    {
     "name": "stdout",
     "output_type": "stream",
     "text": [
      "<class 'str'>\n",
      "<class 'str'>\n"
     ]
    }
   ],
   "source": [
    "# String could be defined by literal or using str() builtin function\n",
    "\n",
    "empty_string = ''\n",
    "print(type(empty_string))\n",
    "empty_string = str()\n",
    "print(type(empty_string))\n",
    "\n"
   ]
  },
  {
   "cell_type": "code",
   "execution_count": 9,
   "metadata": {},
   "outputs": [
    {
     "name": "stdout",
     "output_type": "stream",
     "text": [
      "One line string, can have double-quote(\")\n",
      "One line string, can have single-quote(')\n",
      "multi-line string,\n",
      "can have: \n",
      "single-quote('),\n",
      "double-quote(\")\n",
      "triple-double as well(\"\"\")\n",
      "\n",
      "multi-line string,\n",
      "can have: \n",
      "single-quote('),\n",
      "double-quote(\")\n",
      "triple-single as well(''')\n",
      "\n",
      "Ofcourse, using escape char can overcome restriction. Single quote (')\n"
     ]
    }
   ],
   "source": [
    "# String literals: single quote, double quote, \n",
    "# tripple-single quote and tripple-double quote\n",
    "\n",
    "s1 = 'One line string, can have double-quote(\")'\n",
    "s2 = \"One line string, can have single-quote(')\"\n",
    "s3 = '''multi-line string,\n",
    "can have: \n",
    "single-quote('),\n",
    "double-quote(\")\n",
    "triple-double as well(\"\"\")\n",
    "'''\n",
    "\n",
    "s4 = \"\"\"multi-line string,\n",
    "can have: \n",
    "single-quote('),\n",
    "double-quote(\")\n",
    "triple-single as well(''')\n",
    "\"\"\"\n",
    "\n",
    "s5 = 'Ofcourse, using escape char can overcome restriction. Single quote (\\')'\n",
    "\n",
    "print(s1)\n",
    "print(s2)\n",
    "print(s3)\n",
    "print(s4)\n",
    "print(s5)\n"
   ]
  },
  {
   "cell_type": "code",
   "execution_count": 10,
   "metadata": {},
   "outputs": [
    {
     "name": "stdout",
     "output_type": "stream",
     "text": [
      "heythere\n",
      "Python is fun\n",
      "-+-+-+-+-+-+-+-+-+-+\n",
      "--------------------\n"
     ]
    }
   ],
   "source": [
    "# basic string operations\n",
    "\n",
    "# concatening two strings ('+')\n",
    "\n",
    "s1 = 'hey'\n",
    "s2 = 'there'\n",
    "s3 = s1 + s2\n",
    "print(s3)\n",
    "\n",
    "s4 = 'Python' + ' is ' + 'fun'\n",
    "print(s4)\n",
    "\n",
    "\n",
    "# string repetation operator ('*')\n",
    "s5 = '-+' * 10\n",
    "print(s5)\n",
    "print(20*'-')\n"
   ]
  },
  {
   "cell_type": "code",
   "execution_count": 11,
   "metadata": {},
   "outputs": [
    {
     "name": "stdout",
     "output_type": "stream",
     "text": [
      "this is some sample string\n",
      "THIS IS SOME SAMPLE STRING\n",
      "this is some sample string\n",
      "True\n",
      "True\n",
      "True\n",
      "captialize()\n",
      "This is some sample string\n",
      "count(i) of i in string is:  2\n"
     ]
    }
   ],
   "source": [
    "# String methods\n",
    "\n",
    "s1 = \"This IS sOme Sample STriNg\"\n",
    "print(s1.lower())\n",
    "print(s1.upper())\n",
    "\n",
    "s2 = \"THIS IS some SAMPLE string\"\n",
    "print(s1.casefold())\n",
    "\n",
    "# comparing two strings in case-insensitve way\n",
    "print(s1.lower() == s2.lower())\n",
    "print(s1.upper() == s2.upper())\n",
    "# use casefold() instead while doing case-insensitive comparison\n",
    "print(s1.casefold() == s2.casefold())\n",
    "\n",
    "\n",
    "\n",
    "print('captialize()')\n",
    "print(s1.capitalize())\n",
    "\n",
    "# count() usage\n",
    "print(\"count(i) of i in string is: \", s1.count('i'))\n"
   ]
  },
  {
   "cell_type": "code",
   "execution_count": 12,
   "metadata": {},
   "outputs": [
    {
     "name": "stdout",
     "output_type": "stream",
     "text": [
      "The words are:\n",
      "13\n",
      "The vowels are:\n",
      "20\n"
     ]
    }
   ],
   "source": [
    "# usage of keyword `in`\n",
    "\n",
    "s1 = \"The name of the greatest movie of, THE world in my sense is 'MATRIX'\"\n",
    "word = 0\n",
    "vowels = 0\n",
    "\n",
    "for c in s1:\n",
    "    if c == \" \":\n",
    "        word = word + 1\n",
    "    #elif c == 'a' or c == 'e' or c == 'i' or c == 'o' or c == 'u':\n",
    "    elif c.casefold() in 'aeiou':\n",
    "        vowels = vowels + 1\n",
    "\n",
    "print(\"The words are:\")\n",
    "print(word)\n",
    "print(\"The vowels are:\")\n",
    "print(vowels)"
   ]
  }
 ],
 "metadata": {
  "kernelspec": {
   "display_name": "Python 3",
   "language": "python",
   "name": "python3"
  },
  "language_info": {
   "codemirror_mode": {
    "name": "ipython",
    "version": 3
   },
   "file_extension": ".py",
   "mimetype": "text/x-python",
   "name": "python",
   "nbconvert_exporter": "python",
   "pygments_lexer": "ipython3",
   "version": "3.6.0"
  }
 },
 "nbformat": 4,
 "nbformat_minor": 2
}
