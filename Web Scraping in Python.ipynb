{
 "cells": [
  {
   "cell_type": "markdown",
   "metadata": {},
   "source": [
    "# Web Scraping\n",
    "\n",
    "- extracting data from web\n",
    "- parsing the HTTP file\n",
    "- should know the DOM (Document Object Model) for the target web page\n",
    "\n",
    "\n",
    "## Web Scraping in Python\n",
    "\n",
    "requires below packages:\n",
    "\n",
    "- `requests` for requesting the Web URL, and downloading the HTTP page.\n",
    "- `bs4` for parsing and extracting info from the HTTP file.\n",
    "\n",
    "installation:\n",
    "\n",
    "```shell\n",
    "# install package beautifulsoup\n",
    "$ pip install bs4\n",
    "\n",
    "# install package requests\n",
    "$ pip install requests\n",
    "```\n",
    "\n",
    "beautifulsoup documentation link:\n",
    "\n",
    "https://www.crummy.com/software/BeautifulSoup/bs4/doc/\n",
    "\n",
    "a very good basic tutorial at:\n",
    "\n",
    "https://www.dataquest.io/blog/web-scraping-tutorial-python/\n",
    "\n",
    "\n",
    "\n"
   ]
  }
 ],
 "metadata": {
  "kernelspec": {
   "display_name": "Python 3",
   "language": "python",
   "name": "python3"
  },
  "language_info": {
   "codemirror_mode": {
    "name": "ipython",
    "version": 3
   },
   "file_extension": ".py",
   "mimetype": "text/x-python",
   "name": "python",
   "nbconvert_exporter": "python",
   "pygments_lexer": "ipython3",
   "version": "3.6.0"
  }
 },
 "nbformat": 4,
 "nbformat_minor": 2
}
