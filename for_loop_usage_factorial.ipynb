{
 "cells": [
  {
   "cell_type": "code",
   "execution_count": 1,
   "metadata": {},
   "outputs": [
    {
     "name": "stdout",
     "output_type": "stream",
     "text": [
      "This program calculates the factorial of the number.\n",
      "Enter the number: 5\n",
      "c is:\n",
      "1\n",
      "factorial caluclated is:\n",
      "1\n",
      "c is:\n",
      "2\n",
      "factorial caluclated is:\n",
      "2\n",
      "c is:\n",
      "3\n",
      "factorial caluclated is:\n",
      "6\n",
      "c is:\n",
      "4\n",
      "factorial caluclated is:\n",
      "24\n",
      "c is:\n",
      "5\n",
      "factorial caluclated is:\n",
      "120\n",
      "The factorial of given number is:\n",
      "120\n"
     ]
    }
   ],
   "source": [
    "# this program shows the sample usage of `for` loop in Python\n",
    "\n",
    "# this program calculates the factorial of a number\n",
    "# factorial of  5 is: 1*2*3*4*5 = 120\n",
    "# factorial of 10 is: 1*2*3*4*5*6*7*8*9*10 = 120\n",
    "print(\"This program calculates the factorial of the number.\")\n",
    "\n",
    "n = int(input(\"Enter the number: \"))\n",
    "factorial = 1\n",
    "\n",
    "# loop while c is in range 1 to n\n",
    "# for ex, if n = 5, loop through 1, 2, 3, 4, and 5\n",
    "# range is builtin function, used mostly with while loop\n",
    "# it has two args, start and end\n",
    "# start is inclusive\n",
    "# end is exclusive\n",
    "for c in range(1, n+1):\n",
    "    print(\"c is:\")\n",
    "    print(c)\n",
    "    factorial = factorial * c\n",
    "    print(\"factorial caluclated is:\")\n",
    "    print(factorial)\n",
    "\n",
    "print(\"The factorial of given number is:\")\n",
    "print(factorial)"
   ]
  }
 ],
 "metadata": {
  "kernelspec": {
   "display_name": "Python 3",
   "language": "python",
   "name": "python3"
  },
  "language_info": {
   "codemirror_mode": {
    "name": "ipython",
    "version": 3
   },
   "file_extension": ".py",
   "mimetype": "text/x-python",
   "name": "python",
   "nbconvert_exporter": "python",
   "pygments_lexer": "ipython3",
   "version": "3.6.0"
  }
 },
 "nbformat": 4,
 "nbformat_minor": 2
}
