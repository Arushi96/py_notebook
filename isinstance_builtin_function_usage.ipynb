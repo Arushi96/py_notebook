{
 "cells": [
  {
   "cell_type": "code",
   "execution_count": 11,
   "metadata": {},
   "outputs": [
    {
     "name": "stdout",
     "output_type": "stream",
     "text": [
      "is int? True\n",
      "is float? False\n",
      "checking with type, is int? True\n",
      "checking with type, is float? False\n",
      "is int or float? True\n",
      "checking with type, is int or float? True\n"
     ]
    }
   ],
   "source": [
    "# isinstance() is a builtin function which can be used\n",
    "# to check if the given object is the instance of some type\n",
    "\n",
    "# ex:\n",
    "i = 10\n",
    "print(\"is int?\", isinstance(i, int))  # o/p True\n",
    "print(\"is float?\", isinstance(i, float))  # o/p False\n",
    "\n",
    "\n",
    "\n",
    "# in this case its usage is same as that of\n",
    "print(\"checking with type, is int?\", type(i) == type(int()))\n",
    "print(\"checking with type, is float?\", type(i) == type(float()))\n",
    "\n",
    "# but usage of isinstance is more advanced \n",
    "# as it allows to check if object is among the \n",
    "# types more easily\n",
    "\n",
    "n = 10.5\n",
    "print(\"is int or float?\", isinstance(i, (int, float)))\n",
    "print(\"checking with type, is int or float?\", \n",
    "      (type(n) == type(int())) or (type(n) == type(float())))\n",
    "\n",
    "# not only that, isinstance helps to find if a object\n",
    "# is instance of some type/class, or some class derived from it\n",
    "\n",
    "# ex\n",
    "\n",
    "class A:\n",
    "    pass\n",
    "\n",
    "class B(A):\n",
    "    pass\n",
    "\n",
    "class C(B):\n",
    "    pass\n",
    "\n",
    "class D:\n",
    "    pass\n",
    "\n"
   ]
  }
 ],
 "metadata": {
  "kernelspec": {
   "display_name": "Python 3",
   "language": "python",
   "name": "python3"
  },
  "language_info": {
   "codemirror_mode": {
    "name": "ipython",
    "version": 3
   },
   "file_extension": ".py",
   "mimetype": "text/x-python",
   "name": "python",
   "nbconvert_exporter": "python",
   "pygments_lexer": "ipython3",
   "version": "3.6.0"
  }
 },
 "nbformat": 4,
 "nbformat_minor": 2
}
