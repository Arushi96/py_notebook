{
 "cells": [
  {
   "cell_type": "code",
   "execution_count": 2,
   "metadata": {},
   "outputs": [
    {
     "name": "stdout",
     "output_type": "stream",
     "text": [
      "Enter value for n: 10\n",
      "0\n",
      "2\n",
      "4\n",
      "6\n",
      "8\n",
      "10\n",
      "Summation of first n even numbers is:\n",
      "30\n"
     ]
    }
   ],
   "source": [
    "# summation of first N even numbers\n",
    "\n",
    "n = int(input(\"Enter value for n: \"))\n",
    "sum = 0\n",
    "\n",
    "for i in range(0, n+1):\n",
    "    if i % 2 == 0:\n",
    "        print(i)\n",
    "        sum = sum + i\n",
    "\n",
    "print(\"Summation of first n even numbers is:\")\n",
    "print(sum)"
   ]
  },
  {
   "cell_type": "code",
   "execution_count": 3,
   "metadata": {},
   "outputs": [
    {
     "name": "stdout",
     "output_type": "stream",
     "text": [
      "Enter value for n: 10\n",
      "1\n",
      "3\n",
      "5\n",
      "7\n",
      "9\n",
      "Summation of first n odd numbers is:\n",
      "25\n"
     ]
    }
   ],
   "source": [
    "# summation of first N odd numbers\n",
    "\n",
    "n = int(input(\"Enter value for n: \"))\n",
    "sum = 0\n",
    "\n",
    "for i in range(0, n+1):\n",
    "    if i % 2 != 0:\n",
    "        print(i)\n",
    "        sum = sum + i\n",
    "\n",
    "print(\"Summation of first n odd numbers is:\")\n",
    "print(sum)"
   ]
  },
  {
   "cell_type": "code",
   "execution_count": 4,
   "metadata": {},
   "outputs": [
    {
     "name": "stdout",
     "output_type": "stream",
     "text": [
      "Enter value for n: 10\n",
      "1\n",
      "2\n",
      "4\n",
      "5\n",
      "8\n",
      "10\n",
      "Summation of numbers is:\n",
      "30\n"
     ]
    }
   ],
   "source": [
    "# summation of first N numbers \n",
    "# except of those which are divisible by 3 or 7\n",
    "\n",
    "n = int(input(\"Enter value for n: \"))\n",
    "sum = 0\n",
    "\n",
    "for i in range(0, n+1):\n",
    "    if i % 3 == 0 or i % 7 == 0:\n",
    "        continue\n",
    "    print(i)\n",
    "    sum = sum + i\n",
    "\n",
    "print(\"Summation of numbers is:\")\n",
    "print(sum)"
   ]
  },
  {
   "cell_type": "code",
   "execution_count": 7,
   "metadata": {},
   "outputs": [
    {
     "name": "stdout",
     "output_type": "stream",
     "text": [
      "Enter value for n: 10\n",
      "1\n",
      "5\n",
      "Summation of numbers is:\n",
      "6\n"
     ]
    }
   ],
   "source": [
    "# summation of first N numbers \n",
    "# except of those which are divisible by 3 or 7\n",
    "# and which are Odd numbers\n",
    "\n",
    "n = int(input(\"Enter value for n: \"))\n",
    "sum = 0\n",
    "\n",
    "for i in range(0, n+1):\n",
    "    if (i % 2 == 0) or (i % 3 == 0 or i % 7 == 0):\n",
    "        continue\n",
    "    print(i)\n",
    "    sum = sum + i\n",
    "\n",
    "print(\"Summation of numbers is:\")\n",
    "print(sum)"
   ]
  }
 ],
 "metadata": {
  "kernelspec": {
   "display_name": "Python 3",
   "language": "python",
   "name": "python3"
  },
  "language_info": {
   "codemirror_mode": {
    "name": "ipython",
    "version": 3
   },
   "file_extension": ".py",
   "mimetype": "text/x-python",
   "name": "python",
   "nbconvert_exporter": "python",
   "pygments_lexer": "ipython3",
   "version": "3.6.0"
  }
 },
 "nbformat": 4,
 "nbformat_minor": 2
}
