{
 "cells": [
  {
   "cell_type": "code",
   "execution_count": 1,
   "metadata": {},
   "outputs": [
    {
     "name": "stdout",
     "output_type": "stream",
     "text": [
      "Both a and b should be either string or, either of, int and float\n"
     ]
    }
   ],
   "source": [
    "a = 'abhijit'\n",
    "b = 4\n",
    "\n",
    "if (type(a) == type('')) and (type(b) == type('')):\n",
    "    print(\"Hello, Goodmorning\")\n",
    "    print(a)\n",
    "    print(b)\n",
    "elif ((type(a) == type(0) or type(a) == type(0.)) and (type(b) == type(0) or type(b) == type(0.))):\n",
    "    print(\"addition of:\")\n",
    "    print(a)\n",
    "    print(b)\n",
    "    print(\"is:\")\n",
    "    print(a+b)\n",
    "else:\n",
    "    print(\"Both a and b should be either string or, either of, int and float\")"
   ]
  }
 ],
 "metadata": {
  "kernelspec": {
   "display_name": "Python 3",
   "language": "python",
   "name": "python3"
  },
  "language_info": {
   "codemirror_mode": {
    "name": "ipython",
    "version": 3
   },
   "file_extension": ".py",
   "mimetype": "text/x-python",
   "name": "python",
   "nbconvert_exporter": "python",
   "pygments_lexer": "ipython3",
   "version": "3.6.0"
  }
 },
 "nbformat": 4,
 "nbformat_minor": 2
}
