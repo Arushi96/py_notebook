{
 "cells": [
  {
   "cell_type": "code",
   "execution_count": 1,
   "metadata": {},
   "outputs": [
    {
     "name": "stdout",
     "output_type": "stream",
     "text": [
      "Enter the number: 5\n",
      "Do you want to continue? (y/n): y\n",
      "Enter the number: 10\n",
      "Do you want to continue? (y/n): y\n",
      "Enter the number: -2\n",
      "Do you want to continue? (y/n): n\n",
      "The summation of n are: \n",
      "13\n"
     ]
    }
   ],
   "source": [
    "# usage of `while` loop construct in Python\n",
    "\n",
    "# this program calculates the summation of numbers which user wishes/inputs\n",
    "\n",
    "sum = 0\n",
    "ans = 'y'\n",
    "\n",
    "# while the given condition is True \n",
    "# (i.e. ans var value is 'y'), repeat \n",
    "# block of statements, under loop\n",
    "while ans == 'y':\n",
    "    n = int(input(\"Enter the number: \"))\n",
    "    sum = sum + n\n",
    "    # this statement is important, as it asks user whether to continue or not\n",
    "    # and assign that new input to ans variable\n",
    "    # which is finally used again in the while condition\n",
    "    ans = input(\"Do you want to continue? (y/n): \")\n",
    "    \n",
    "\n",
    "print(\"The summation of n are: \")\n",
    "print(sum)\n",
    "\n"
   ]
  }
 ],
 "metadata": {
  "kernelspec": {
   "display_name": "Python 3",
   "language": "python",
   "name": "python3"
  },
  "language_info": {
   "codemirror_mode": {
    "name": "ipython",
    "version": 3
   },
   "file_extension": ".py",
   "mimetype": "text/x-python",
   "name": "python",
   "nbconvert_exporter": "python",
   "pygments_lexer": "ipython3",
   "version": "3.6.0"
  }
 },
 "nbformat": 4,
 "nbformat_minor": 2
}
